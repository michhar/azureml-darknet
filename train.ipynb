{
 "cells": [
  {
   "cell_type": "markdown",
   "metadata": {},
   "source": [
    "![Impressions](https://PixelServer20190423114238.azurewebsites.net/api/impressions/MachineLearningNotebooks/how-to-use-azureml/ml-frameworks/fastai/train-with-custom-docker/fastai-with-custom-docker.png)"
   ]
  },
  {
   "cell_type": "markdown",
   "metadata": {},
   "source": [
    "# Train a model using a custom Docker image and Darknet"
   ]
  },
  {
   "cell_type": "markdown",
   "metadata": {},
   "source": [
    "In this tutorial, learn how to use a custom Docker image when training models with Azure Machine Learning and leverage the Darknet framework."
   ]
  },
  {
   "cell_type": "markdown",
   "metadata": {},
   "source": [
    "## Set up the experiment\n",
    "This section sets up the training experiment by initializing a workspace, creating an experiment, and uploading the training data and training scripts."
   ]
  },
  {
   "cell_type": "markdown",
   "metadata": {},
   "source": [
    "### Initialize a workspace\n",
    "The Azure Machine Learning workspace is the top-level resource for the service. It provides you with a centralized place to work with all the artifacts you create. In the Python SDK, you can access the workspace artifacts by creating a `workspace` object.\n",
    "\n",
    "Create a workspace object from the `config.json` file."
   ]
  },
  {
   "cell_type": "code",
   "execution_count": null,
   "metadata": {},
   "outputs": [],
   "source": [
    "from azureml.core import Workspace\n",
    "\n",
    "ws = Workspace.from_config()"
   ]
  },
  {
   "cell_type": "markdown",
   "metadata": {},
   "source": [
    "### Prepare scripts\n",
    "Create a directory titled `darknet-scripts`."
   ]
  },
  {
   "cell_type": "code",
   "execution_count": null,
   "metadata": {},
   "outputs": [],
   "source": [
    "import os\n",
    "os.makedirs('darknet-scripts', exist_ok=True)"
   ]
  },
  {
   "cell_type": "markdown",
   "metadata": {},
   "source": [
    "Then run the cell below to create the training script train.py in the directory."
   ]
  },
  {
   "cell_type": "code",
   "execution_count": null,
   "metadata": {
    "jupyter": {
     "outputs_hidden": false,
     "source_hidden": false
    },
    "nteract": {
     "transient": {
      "deleting": false
     }
    }
   },
   "outputs": [],
   "source": [
    "%%writefile darknet-scripts/train.py\n",
    "\"\"\"\n",
    "Azure ML training script for Darknet object detection experiment\n",
    "\"\"\"\n",
    "import os\n",
    "import requests\n",
    "import subprocess\n",
    "import shutil\n",
    "\n",
    "\n",
    "# Test container\n",
    "def greeting():\n",
    "    print(\"Welcome to darknet container!\")\n",
    "\n",
    "greeting()\n",
    "\n",
    "print(\"Getting the test image...\")\n",
    "# Get a test image\n",
    "url = \"https://raw.githubusercontent.com/AlexeyAB/darknet/master/data/giraffe.jpg\"\n",
    "response = requests.get(url)\n",
    "if response.status_code == 200:\n",
    "    with open(\"giraffe.jpg\", \"wb\") as f:\n",
    "        f.write(response.content)\n",
    "\n",
    "# Make coco.data file\n",
    "coco_data = \"\"\"\n",
    "classes= 80\n",
    "train  = train.txt\n",
    "valid  = val.txt\n",
    "names = coco.names\n",
    "backup = backup/\n",
    "eval=coco\n",
    "\"\"\"\n",
    "print(\"Making coco.data\")\n",
    "with open(\"coco.data\", \"w\") as f:\n",
    "    f.write(coco_data)\n",
    "\n",
    "print(\"Getting coco.names...\")\n",
    "# Get the names file\n",
    "url = \"https://raw.githubusercontent.com/AlexeyAB/darknet/master/cfg/coco.names\"\n",
    "response = requests.get(url)\n",
    "if response.status_code == 200:\n",
    "    with open(\"coco.names\", \"wb\") as f:\n",
    "        f.write(response.content)\n",
    "\n",
    "print(\"Getting the weights file, yolov4.weights...\")\n",
    "# Get the weights file\n",
    "url = \"https://github.com/AlexeyAB/darknet/releases/download/darknet_yolo_v3_optimal/yolov4.weights\"\n",
    "response = requests.get(url)\n",
    "if response.status_code == 200:\n",
    "    with open(\"yolov4.weights\", \"wb\") as f:\n",
    "        f.write(response.content)\n",
    "\n",
    "print(\"Getting the config file...\")\n",
    "# Get the config file\n",
    "url = \"https://raw.githubusercontent.com/AlexeyAB/darknet/master/cfg/yolov4.cfg\"\n",
    "response = requests.get(url)\n",
    "if response.status_code == 200:\n",
    "    with open(\"yolov4.cfg\", \"wb\") as f:\n",
    "        f.write(response.content)\n",
    "\n",
    "# What is our current working directory?\n",
    "print(\"Current working directory: {}\".format(os.getcwd()))\n",
    "print(\"Contents of directory: \")\n",
    "os.system(\"ls\")\n",
    "\n",
    "# Predict with darknet\n",
    "print(\"Running darknet detector test!\")\n",
    "os.system(\"darknet detector test coco.data yolov4.cfg yolov4.weights -thresh 0.25 giraffe.jpg -ext_output\")\n",
    "os.system(\"ls\")\n",
    "\n",
    "if os.path.exists(\"predictions.jpg\"):\n",
    "    shutil.copyfile(\"predictions.jpg\", \"outputs/predictions.jpg\")\n",
    "if os.path.exists(\"predictions.png\"):\n",
    "    shutil.copyfile(\"predictions.png\", \"outputs/predictions.png\")\n",
    "\n",
    "\n",
    "print(\"Return value: {}\".format(retval))"
   ]
  },
  {
   "cell_type": "markdown",
   "metadata": {},
   "source": [
    "### Define your environment\n",
    "Create an environment object and enable Docker."
   ]
  },
  {
   "cell_type": "code",
   "execution_count": null,
   "metadata": {},
   "outputs": [],
   "source": [
    "from azureml.core import Environment\n",
    "\n",
    "darknet_env = Environment(\"darknet\")\n",
    "darknet_env.docker.enabled = True"
   ]
  },
  {
   "cell_type": "markdown",
   "metadata": {},
   "source": [
    "This specified base image supports the darknet framework which allows for object detection deep learning capabilities. For more information, see the [darknet GitHub repo](https://github.com/AlexeyAB/darknet). \n",
    "\n",
    "When you are using your custom Docker image, you might already have your Python environment properly set up. In that case, set the `user_managed_dependencies` flag to True in order to leverage your custom image's built-in python environment."
   ]
  },
  {
   "cell_type": "code",
   "execution_count": null,
   "metadata": {},
   "outputs": [],
   "source": [
    "darknet_env.docker.base_image = None\n",
    "darknet_env.docker.base_dockerfile = \"./Dockerfile\"\n",
    "# darknet_env.python.user_managed_dependencies = True"
   ]
  },
  {
   "cell_type": "markdown",
   "metadata": {},
   "source": [
    "To use an image from a private container registry that is not in your workspace, you must use `docker.base_image_registry` to specify the address of the repository as well as a username and password."
   ]
  },
  {
   "cell_type": "markdown",
   "metadata": {},
   "source": [
    "```python\n",
    "fastai_env.docker.base_image_registry.address = \"myregistry.azurecr.io\"\n",
    "fastai_env.docker.base_image_registry.username = \"username\"\n",
    "fastai_env.docker.base_image_registry.password = \"password\"\n",
    "```"
   ]
  },
  {
   "cell_type": "markdown",
   "metadata": {},
   "source": [
    "It is also possible to use a custom Dockerfile. Use this approach if you need to install non-Python packages as dependencies and remember to set the base image to None. "
   ]
  },
  {
   "cell_type": "markdown",
   "metadata": {},
   "source": [
    "Specify docker steps as a string:\n",
    "```python \n",
    "dockerfile = r\"\"\" \\\n",
    "FROM mcr.microsoft.com/azureml/base:intelmpi2018.3-ubuntu16.04\n",
    "RUN echo \"Hello from custom container!\" \\\n",
    "\"\"\"\n",
    "```\n",
    "Set base image to None, because the image is defined by dockerfile:\n",
    "```python\n",
    "fastai_env.docker.base_image = None \\\n",
    "fastai_env.docker.base_dockerfile = dockerfile\n",
    "```\n",
    "Alternatively, load the string from a file:\n",
    "```python\n",
    "fastai_env.docker.base_image = None \\\n",
    "fastai_env.docker.base_dockerfile = \"./Dockerfile\"\n",
    "```"
   ]
  },
  {
   "cell_type": "markdown",
   "metadata": {},
   "source": [
    "### Create or attach existing AmlCompute\n",
    "You will need to create a [compute target](https://docs.microsoft.com/azure/machine-learning/service/concept-azure-machine-learning-architecture#compute-target) for training your model. In this tutorial, you create `AmlCompute` as your training compute resource.\n",
    "\n",
    "**Creation of AmlCompute takes approximately 5 minutes.** If the AmlCompute with that name is already in your workspace this code will skip the creation process.\n",
    "\n",
    "As with other Azure services, there are limits on certain resources (e.g. AmlCompute) associated with the Azure Machine Learning service. Please read [this article](https://docs.microsoft.com/en-us/azure/machine-learning/service/how-to-manage-quotas) on the default limits and how to request more quota."
   ]
  },
  {
   "cell_type": "code",
   "execution_count": null,
   "metadata": {},
   "outputs": [],
   "source": [
    "from azureml.core.compute import ComputeTarget, AmlCompute\n",
    "from azureml.core.compute_target import ComputeTargetException\n",
    "\n",
    "# choose a name for your cluster\n",
    "cluster_name = \"gpuforkeras\"\n",
    "\n",
    "try:\n",
    "    compute_target = ComputeTarget(workspace=ws, name=cluster_name)\n",
    "    print('Found existing compute target.')\n",
    "except ComputeTargetException:\n",
    "    print('Creating a new compute target...')\n",
    "    compute_config = AmlCompute.provisioning_configuration(vm_size='STANDARD_NC6',\n",
    "                                                           max_nodes=4)\n",
    "\n",
    "    # create the cluster\n",
    "    compute_target = ComputeTarget.create(ws, cluster_name, compute_config)\n",
    "\n",
    "    compute_target.wait_for_completion(show_output=True)\n",
    "\n",
    "# use get_status() to get a detailed status for the current AmlCompute\n",
    "print(compute_target.get_status().serialize())"
   ]
  },
  {
   "cell_type": "markdown",
   "metadata": {},
   "source": [
    "### Create a ScriptRunConfig\n",
    "This ScriptRunConfig will configure your job for execution on the desired compute target."
   ]
  },
  {
   "cell_type": "code",
   "execution_count": null,
   "metadata": {
    "jupyter": {
     "outputs_hidden": false,
     "source_hidden": false
    },
    "nteract": {
     "transient": {
      "deleting": false
     }
    }
   },
   "outputs": [],
   "source": [
    "from azureml.core import ScriptRunConfig\n",
    "\n",
    "darknet_config = ScriptRunConfig(source_directory='darknet-scripts',\n",
    "                                script='train.py',\n",
    "                                compute_target=compute_target,\n",
    "                                environment=darknet_env)"
   ]
  },
  {
   "cell_type": "markdown",
   "metadata": {},
   "source": [
    "### Submit your run\n",
    "When a training run is submitted using a ScriptRunConfig object, the submit method returns an object of type ScriptRun. The returned ScriptRun object gives you programmatic access to information about the training run. "
   ]
  },
  {
   "cell_type": "code",
   "execution_count": null,
   "metadata": {
    "jupyter": {
     "outputs_hidden": false,
     "source_hidden": false
    },
    "nteract": {
     "transient": {
      "deleting": false
     }
    },
    "scrolled": false
   },
   "outputs": [],
   "source": [
    "from azureml.core import Experiment\n",
    "\n",
    "run = Experiment(ws,'darknet-custom-image').submit(darknet_config)\n",
    "run.wait_for_completion(show_output=True)"
   ]
  },
  {
   "cell_type": "code",
   "execution_count": null,
   "metadata": {},
   "outputs": [],
   "source": []
  }
 ],
 "metadata": {
  "authors": [
   {
    "name": "sagopal"
   }
  ],
  "category": "training",
  "compute": [
   "AML Compute"
  ],
  "datasets": [
   "Oxford IIIT Pet"
  ],
  "deployment": [
   "None"
  ],
  "exclude_from_index": false,
  "framework": [
   "Pytorch"
  ],
  "friendly_name": "Train a model with a custom Docker image",
  "index_order": 1,
  "kernelspec": {
   "display_name": "Python 3",
   "language": "python",
   "name": "python3"
  },
  "language_info": {
   "codemirror_mode": {
    "name": "ipython",
    "version": 3
   },
   "file_extension": ".py",
   "mimetype": "text/x-python",
   "name": "python",
   "nbconvert_exporter": "python",
   "pygments_lexer": "ipython3",
   "version": "3.6.9"
  },
  "nteract": {
   "version": "nteract-front-end@1.0.0"
  },
  "tags": [
   "None"
  ],
  "task": "Train with custom Docker image"
 },
 "nbformat": 4,
 "nbformat_minor": 2
}
